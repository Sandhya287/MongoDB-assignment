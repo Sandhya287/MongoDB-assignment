{
 "cells": [
  {
   "cell_type": "code",
   "execution_count": null,
   "id": "9087de5e-0902-4b35-a412-5a16ccc3dcff",
   "metadata": {},
   "outputs": [],
   "source": [
    "#Q1. What is MongoDB? Explain Non-Relational Databases. In Which Scenarios MongoDB is Preferred Over SQL Databases?"
   ]
  },
  {
   "cell_type": "code",
   "execution_count": null,
   "id": "381e2efb-2946-4f5c-afea-530e35fe1033",
   "metadata": {},
   "outputs": [],
   "source": [
    "MongoDB is an open-source, document-oriented database which is part of the NoSQL database systems. Unlike relational databases that use tables with fixed rows and columns, MongoDB is built on a non-relational, document-based model. In MongoDB, data is stored in flexible documents with a JSON (JavaScript Object Notation)-like format, allowing fields to vary from document to document.\n",
    "\n",
    "Non-relational databases, also known as NoSQL databases, are designed to handle large volumes of data that do not fit into traditional relational models. They are known for their ability to manage unstructured and semi-structured data, horizontal scaling, and flexible schema design.\n",
    "\n",
    "Scenarios to Use MongoDB Over SQL Databases:\n",
    "\n",
    "Handling Large Volumes of Unstructured Data: MongoDB is ideal for applications with large amounts of diverse data that doesn't fit well into the rigid structure of relational databases.\n",
    "Rapid Development: Due to its schema-less nature, it is more adaptable to agile development methodologies.\n",
    "Scalability Needs: MongoDB's horizontal scalability is a better fit for applications expecting large-scale growth.\n",
    "Real-Time Analytics and High-Speed Logging: MongoDB's performance and flexibility make it suitable for real-time analytics and high-speed logging."
   ]
  },
  {
   "cell_type": "code",
   "execution_count": null,
   "id": "91779860-2574-4b96-8a1c-6ef4d630e3c9",
   "metadata": {},
   "outputs": [],
   "source": [
    "#Q2. State and Explain the features of MongoDB."
   ]
  },
  {
   "cell_type": "code",
   "execution_count": null,
   "id": "d64130dc-9ca2-493b-b7f9-127d5bee2475",
   "metadata": {},
   "outputs": [],
   "source": [
    "Document-Oriented Storage: Data is stored in JSON-like documents which can have varied structures.\n",
    "Indexing: Supports a wide range of indexing capabilities for faster query response.\n",
    "Replication: Offers high availability with replica sets.\n",
    "Sharding: Facilitates horizontal scaling by distributing data across multiple machines.\n",
    "Aggregation Framework: Allows data processing and aggregation operations within the database.\n",
    "Flexible Schema Design: No need for a predefined schema; the structure of the documents can be changed on the fly.\n",
    "Scalability: Designed for scalability, from single server deployments to large, complex multi-site architectures."
   ]
  },
  {
   "cell_type": "code",
   "execution_count": null,
   "id": "4f38f3c5-a0f6-46a8-80d2-2a20e3a766d4",
   "metadata": {},
   "outputs": [],
   "source": [
    "#Q3. Write a code to connect MongoDB to Python. Also, create a database and a collection in MongoDB."
   ]
  },
  {
   "cell_type": "code",
   "execution_count": null,
   "id": "fb957918-abc9-44df-942d-870e933a1c43",
   "metadata": {},
   "outputs": [],
   "source": [
    "from pymongo import MongoClient\n",
    "\n",
    "# Connect to MongoDB\n",
    "client = MongoClient(\"mongodb://localhost:27017/\")\n",
    "\n",
    "# Create a database\n",
    "db = client[\"mydatabase\"]\n",
    "\n",
    "# Create a collection\n",
    "collection = db[\"mycollection\"]\n"
   ]
  },
  {
   "cell_type": "code",
   "execution_count": null,
   "id": "b189db54-d923-48be-b02b-20863b7a4286",
   "metadata": {},
   "outputs": [],
   "source": [
    "#Q4. Using the database and the collection created in question number 3, write a code to insert one record,\n",
    "and insert many records. Use the find() and find_one() methods to print the inserted record."
   ]
  },
  {
   "cell_type": "code",
   "execution_count": null,
   "id": "eaa6436e-99c9-44f6-8478-cfe13f7f04b0",
   "metadata": {},
   "outputs": [],
   "source": [
    "# Insert one record\n",
    "one_record = {\"name\": \"John\", \"address\": \"Highway 37\"}\n",
    "collection.insert_one(one_record)\n",
    "\n",
    "# Insert many records\n",
    "many_records = [\n",
    "    {\"name\": \"Amy\", \"address\": \"Apple st 652\"},\n",
    "    {\"name\": \"Hannah\", \"address\": \"Mountain 21\"}\n",
    "]\n",
    "collection.insert_many(many_records)\n",
    "\n",
    "# Find one record\n",
    "print(collection.find_one())\n",
    "\n",
    "# Find all records and print\n",
    "for record in collection.find():\n",
    "    print(record)\n"
   ]
  },
  {
   "cell_type": "code",
   "execution_count": null,
   "id": "646a7b00-ac0a-4b84-bef3-cc172e32fe90",
   "metadata": {},
   "outputs": [],
   "source": [
    "#Q5. Explain how you can use the find() method to query the MongoDB database. Write a simple code to\n",
    "demonstrate this."
   ]
  },
  {
   "cell_type": "code",
   "execution_count": null,
   "id": "b8f2aab7-d8a8-4b7d-bfdd-73c1baf5b849",
   "metadata": {},
   "outputs": [],
   "source": [
    "The find() method in MongoDB is used to query data from a collection. It returns all documents that match the query criteria. If no criteria are specified, it returns all documents in the collection."
   ]
  },
  {
   "cell_type": "code",
   "execution_count": null,
   "id": "9fd9cb03-8915-489c-92f6-cd620a2c7762",
   "metadata": {},
   "outputs": [],
   "source": [
    "# Find all documents where the name is \"Amy\"\n",
    "for record in collection.find({\"name\": \"Amy\"}):\n",
    "    print(record)\n"
   ]
  },
  {
   "cell_type": "code",
   "execution_count": null,
   "id": "c9febf35-bd9b-46cc-80ab-1853da7c94d4",
   "metadata": {},
   "outputs": [],
   "source": [
    "#Q6. Explain the sort() method. Give an example to demonstrate sorting in MongoDB."
   ]
  },
  {
   "cell_type": "code",
   "execution_count": null,
   "id": "ce4f9181-2878-4b96-9a33-5e538c981243",
   "metadata": {},
   "outputs": [],
   "source": [
    "The sort() method in MongoDB is used to sort the data in either ascending (1) or descending (-1) order based on one or more fields.\n",
    "\n"
   ]
  },
  {
   "cell_type": "code",
   "execution_count": null,
   "id": "d1e211ba-8efa-4084-9917-bd38f1dac566",
   "metadata": {},
   "outputs": [],
   "source": [
    "#example\n",
    "\n",
    "\n",
    "\n",
    "# Sort the documents by the name field in ascending order\n",
    "for record in collection.find().sort(\"name\", 1):\n",
    "    print(record)\n"
   ]
  },
  {
   "cell_type": "code",
   "execution_count": null,
   "id": "65757932-d4e3-4037-b73a-25feedf867f7",
   "metadata": {},
   "outputs": [],
   "source": [
    "#Q7. Explain why delete_one(), delete_many(), and drop() is used."
   ]
  },
  {
   "cell_type": "code",
   "execution_count": null,
   "id": "84219f16-61b5-4174-91e7-1e169dade28c",
   "metadata": {},
   "outputs": [],
   "source": [
    "1.delete_one(): This method is used to delete the first document that matches the specified query.\n",
    "2.delete_many(): This method removes all documents that match the specified query. If the query is empty, it can remove all documents in a collection.\n",
    "3.drop(): This method is used to drop an entire collection, including all of its documents and indexes.\n",
    "\n",
    "These methods are crucial for maintaining and managing the data stored in MongoDB, allowing for the removal of outdated, irrelevant, or unnecessary data."
   ]
  }
 ],
 "metadata": {
  "kernelspec": {
   "display_name": "Python 3 (ipykernel)",
   "language": "python",
   "name": "python3"
  },
  "language_info": {
   "codemirror_mode": {
    "name": "ipython",
    "version": 3
   },
   "file_extension": ".py",
   "mimetype": "text/x-python",
   "name": "python",
   "nbconvert_exporter": "python",
   "pygments_lexer": "ipython3",
   "version": "3.10.8"
  }
 },
 "nbformat": 4,
 "nbformat_minor": 5
}
